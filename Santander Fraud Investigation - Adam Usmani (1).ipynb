{
 "cells": [
  {
   "cell_type": "markdown",
   "id": "latter-insurance",
   "metadata": {},
   "source": [
    "# Santander Fraud Investigation"
   ]
  },
  {
   "cell_type": "markdown",
   "id": "nutritional-graduate",
   "metadata": {},
   "source": [
    "1. Importing Libraries\n",
    "2. EDA & Feature Scaling\n",
    "3. Create the Train and Test Data\n",
    "4. Setting up the Model\n",
    "5. Performance Metrics\n",
    "6. Techniques to Improve Model Prediction"
   ]
  },
  {
   "cell_type": "markdown",
   "id": "criminal-preview",
   "metadata": {},
   "source": [
    "# Importing Libraries"
   ]
  },
  {
   "cell_type": "code",
   "execution_count": 190,
   "id": "encouraging-bradford",
   "metadata": {},
   "outputs": [
    {
     "data": {
      "text/html": [
       "<div>\n",
       "<style scoped>\n",
       "    .dataframe tbody tr th:only-of-type {\n",
       "        vertical-align: middle;\n",
       "    }\n",
       "\n",
       "    .dataframe tbody tr th {\n",
       "        vertical-align: top;\n",
       "    }\n",
       "\n",
       "    .dataframe thead th {\n",
       "        text-align: right;\n",
       "    }\n",
       "</style>\n",
       "<table border=\"1\" class=\"dataframe\">\n",
       "  <thead>\n",
       "    <tr style=\"text-align: right;\">\n",
       "      <th></th>\n",
       "      <th>DOMAIN</th>\n",
       "      <th>STATE</th>\n",
       "      <th>ZIPCODE</th>\n",
       "      <th>TIME1</th>\n",
       "      <th>TIME2</th>\n",
       "      <th>VIS1</th>\n",
       "      <th>VIS2</th>\n",
       "      <th>XRN1</th>\n",
       "      <th>XRN2</th>\n",
       "      <th>XRN3</th>\n",
       "      <th>XRN4</th>\n",
       "      <th>XRN5</th>\n",
       "      <th>VAR1</th>\n",
       "      <th>VAR2</th>\n",
       "      <th>VAR3</th>\n",
       "      <th>VAR4</th>\n",
       "      <th>VAR5</th>\n",
       "      <th>TRN_AMT</th>\n",
       "      <th>TOTAL_TRN_AMT</th>\n",
       "      <th>TRN_TYPE</th>\n",
       "    </tr>\n",
       "  </thead>\n",
       "  <tbody>\n",
       "    <tr>\n",
       "      <th>0</th>\n",
       "      <td>CDRZLKAJIJVQHCN.COM</td>\n",
       "      <td>AO</td>\n",
       "      <td>675</td>\n",
       "      <td>12</td>\n",
       "      <td>12</td>\n",
       "      <td>1</td>\n",
       "      <td>0</td>\n",
       "      <td>0</td>\n",
       "      <td>1</td>\n",
       "      <td>1</td>\n",
       "      <td>0</td>\n",
       "      <td>1</td>\n",
       "      <td>2</td>\n",
       "      <td>1</td>\n",
       "      <td>16.680</td>\n",
       "      <td>34</td>\n",
       "      <td>0</td>\n",
       "      <td>12.95</td>\n",
       "      <td>12.95</td>\n",
       "      <td>LEGIT</td>\n",
       "    </tr>\n",
       "    <tr>\n",
       "      <th>1</th>\n",
       "      <td>NEKSXUK.NET</td>\n",
       "      <td>KK</td>\n",
       "      <td>680</td>\n",
       "      <td>18</td>\n",
       "      <td>18</td>\n",
       "      <td>1</td>\n",
       "      <td>0</td>\n",
       "      <td>0</td>\n",
       "      <td>0</td>\n",
       "      <td>0</td>\n",
       "      <td>0</td>\n",
       "      <td>1</td>\n",
       "      <td>3</td>\n",
       "      <td>0</td>\n",
       "      <td>37.880</td>\n",
       "      <td>23</td>\n",
       "      <td>0</td>\n",
       "      <td>38.85</td>\n",
       "      <td>38.85</td>\n",
       "      <td>LEGIT</td>\n",
       "    </tr>\n",
       "    <tr>\n",
       "      <th>2</th>\n",
       "      <td>XOSOP.COM</td>\n",
       "      <td>UO</td>\n",
       "      <td>432</td>\n",
       "      <td>3</td>\n",
       "      <td>3</td>\n",
       "      <td>1</td>\n",
       "      <td>0</td>\n",
       "      <td>0</td>\n",
       "      <td>1</td>\n",
       "      <td>1</td>\n",
       "      <td>0</td>\n",
       "      <td>1</td>\n",
       "      <td>3</td>\n",
       "      <td>1</td>\n",
       "      <td>-9.080</td>\n",
       "      <td>19</td>\n",
       "      <td>2</td>\n",
       "      <td>38.85</td>\n",
       "      <td>38.85</td>\n",
       "      <td>LEGIT</td>\n",
       "    </tr>\n",
       "    <tr>\n",
       "      <th>3</th>\n",
       "      <td>TMA.COM</td>\n",
       "      <td>KR</td>\n",
       "      <td>119</td>\n",
       "      <td>23</td>\n",
       "      <td>23</td>\n",
       "      <td>0</td>\n",
       "      <td>0</td>\n",
       "      <td>1</td>\n",
       "      <td>0</td>\n",
       "      <td>0</td>\n",
       "      <td>0</td>\n",
       "      <td>3</td>\n",
       "      <td>0</td>\n",
       "      <td>0</td>\n",
       "      <td>-6.392</td>\n",
       "      <td>18</td>\n",
       "      <td>0</td>\n",
       "      <td>11.01</td>\n",
       "      <td>11.01</td>\n",
       "      <td>LEGIT</td>\n",
       "    </tr>\n",
       "    <tr>\n",
       "      <th>4</th>\n",
       "      <td>VUHZRNB.COM</td>\n",
       "      <td>PO</td>\n",
       "      <td>614</td>\n",
       "      <td>9</td>\n",
       "      <td>9</td>\n",
       "      <td>0</td>\n",
       "      <td>0</td>\n",
       "      <td>0</td>\n",
       "      <td>1</td>\n",
       "      <td>0</td>\n",
       "      <td>0</td>\n",
       "      <td>1</td>\n",
       "      <td>3</td>\n",
       "      <td>0</td>\n",
       "      <td>42.512</td>\n",
       "      <td>7</td>\n",
       "      <td>0</td>\n",
       "      <td>12.95</td>\n",
       "      <td>12.95</td>\n",
       "      <td>LEGIT</td>\n",
       "    </tr>\n",
       "    <tr>\n",
       "      <th>5</th>\n",
       "      <td>CIWEVXGWRG.ORG</td>\n",
       "      <td>ROI</td>\n",
       "      <td>386</td>\n",
       "      <td>11</td>\n",
       "      <td>11</td>\n",
       "      <td>0</td>\n",
       "      <td>0</td>\n",
       "      <td>0</td>\n",
       "      <td>1</td>\n",
       "      <td>1</td>\n",
       "      <td>0</td>\n",
       "      <td>1</td>\n",
       "      <td>3</td>\n",
       "      <td>1</td>\n",
       "      <td>-10.096</td>\n",
       "      <td>27</td>\n",
       "      <td>0</td>\n",
       "      <td>49.95</td>\n",
       "      <td>49.95</td>\n",
       "      <td>LEGIT</td>\n",
       "    </tr>\n",
       "    <tr>\n",
       "      <th>6</th>\n",
       "      <td>KZOGEIFBAVSI.NET</td>\n",
       "      <td>LM</td>\n",
       "      <td>127</td>\n",
       "      <td>20</td>\n",
       "      <td>20</td>\n",
       "      <td>0</td>\n",
       "      <td>0</td>\n",
       "      <td>1</td>\n",
       "      <td>0</td>\n",
       "      <td>0</td>\n",
       "      <td>0</td>\n",
       "      <td>2</td>\n",
       "      <td>3</td>\n",
       "      <td>1</td>\n",
       "      <td>15.656</td>\n",
       "      <td>9</td>\n",
       "      <td>9</td>\n",
       "      <td>12.95</td>\n",
       "      <td>12.95</td>\n",
       "      <td>LEGIT</td>\n",
       "    </tr>\n",
       "    <tr>\n",
       "      <th>7</th>\n",
       "      <td>TMA.COM</td>\n",
       "      <td>AR</td>\n",
       "      <td>649</td>\n",
       "      <td>12</td>\n",
       "      <td>12</td>\n",
       "      <td>0</td>\n",
       "      <td>0</td>\n",
       "      <td>1</td>\n",
       "      <td>1</td>\n",
       "      <td>1</td>\n",
       "      <td>0</td>\n",
       "      <td>1</td>\n",
       "      <td>2</td>\n",
       "      <td>0</td>\n",
       "      <td>-38.320</td>\n",
       "      <td>16</td>\n",
       "      <td>0</td>\n",
       "      <td>10.36</td>\n",
       "      <td>10.36</td>\n",
       "      <td>LEGIT</td>\n",
       "    </tr>\n",
       "    <tr>\n",
       "      <th>8</th>\n",
       "      <td>VUHZRNB.COM</td>\n",
       "      <td>BO</td>\n",
       "      <td>308</td>\n",
       "      <td>13</td>\n",
       "      <td>13</td>\n",
       "      <td>0</td>\n",
       "      <td>0</td>\n",
       "      <td>0</td>\n",
       "      <td>1</td>\n",
       "      <td>1</td>\n",
       "      <td>0</td>\n",
       "      <td>2</td>\n",
       "      <td>3</td>\n",
       "      <td>0</td>\n",
       "      <td>33.328</td>\n",
       "      <td>10</td>\n",
       "      <td>0</td>\n",
       "      <td>38.85</td>\n",
       "      <td>38.85</td>\n",
       "      <td>LEGIT</td>\n",
       "    </tr>\n",
       "    <tr>\n",
       "      <th>9</th>\n",
       "      <td>EAYROLLTBU.COM</td>\n",
       "      <td>PO</td>\n",
       "      <td>614</td>\n",
       "      <td>6</td>\n",
       "      <td>6</td>\n",
       "      <td>0</td>\n",
       "      <td>0</td>\n",
       "      <td>1</td>\n",
       "      <td>0</td>\n",
       "      <td>0</td>\n",
       "      <td>0</td>\n",
       "      <td>1</td>\n",
       "      <td>2</td>\n",
       "      <td>0</td>\n",
       "      <td>-43.496</td>\n",
       "      <td>8</td>\n",
       "      <td>0</td>\n",
       "      <td>10.36</td>\n",
       "      <td>10.36</td>\n",
       "      <td>LEGIT</td>\n",
       "    </tr>\n",
       "  </tbody>\n",
       "</table>\n",
       "</div>"
      ],
      "text/plain": [
       "                DOMAIN STATE  ZIPCODE  TIME1  TIME2  VIS1  VIS2  XRN1  XRN2  \\\n",
       "0  CDRZLKAJIJVQHCN.COM    AO      675     12     12     1     0     0     1   \n",
       "1          NEKSXUK.NET    KK      680     18     18     1     0     0     0   \n",
       "2            XOSOP.COM    UO      432      3      3     1     0     0     1   \n",
       "3              TMA.COM    KR      119     23     23     0     0     1     0   \n",
       "4          VUHZRNB.COM    PO      614      9      9     0     0     0     1   \n",
       "5       CIWEVXGWRG.ORG   ROI      386     11     11     0     0     0     1   \n",
       "6     KZOGEIFBAVSI.NET    LM      127     20     20     0     0     1     0   \n",
       "7              TMA.COM    AR      649     12     12     0     0     1     1   \n",
       "8          VUHZRNB.COM    BO      308     13     13     0     0     0     1   \n",
       "9       EAYROLLTBU.COM    PO      614      6      6     0     0     1     0   \n",
       "\n",
       "   XRN3  XRN4  XRN5  VAR1  VAR2    VAR3  VAR4  VAR5  TRN_AMT  TOTAL_TRN_AMT  \\\n",
       "0     1     0     1     2     1  16.680    34     0    12.95          12.95   \n",
       "1     0     0     1     3     0  37.880    23     0    38.85          38.85   \n",
       "2     1     0     1     3     1  -9.080    19     2    38.85          38.85   \n",
       "3     0     0     3     0     0  -6.392    18     0    11.01          11.01   \n",
       "4     0     0     1     3     0  42.512     7     0    12.95          12.95   \n",
       "5     1     0     1     3     1 -10.096    27     0    49.95          49.95   \n",
       "6     0     0     2     3     1  15.656     9     9    12.95          12.95   \n",
       "7     1     0     1     2     0 -38.320    16     0    10.36          10.36   \n",
       "8     1     0     2     3     0  33.328    10     0    38.85          38.85   \n",
       "9     0     0     1     2     0 -43.496     8     0    10.36          10.36   \n",
       "\n",
       "  TRN_TYPE  \n",
       "0    LEGIT  \n",
       "1    LEGIT  \n",
       "2    LEGIT  \n",
       "3    LEGIT  \n",
       "4    LEGIT  \n",
       "5    LEGIT  \n",
       "6    LEGIT  \n",
       "7    LEGIT  \n",
       "8    LEGIT  \n",
       "9    LEGIT  "
      ]
     },
     "execution_count": 190,
     "metadata": {},
     "output_type": "execute_result"
    }
   ],
   "source": [
    "import pandas as pd \n",
    "import numpy as np\n",
    "import tensorflow as tf\n",
    "from tensorflow import keras\n",
    "import os\n",
    "import tempfile\n",
    "import matplotlib as mpl\n",
    "import matplotlib.pyplot as plt\n",
    "import seaborn as sns\n",
    "import sklearn\n",
    "from sklearn.metrics import confusion_matrix\n",
    "from sklearn.model_selection import train_test_split\n",
    "from sklearn.preprocessing import StandardScaler\n",
    "from sklearn.linear_model import LinearRegression, LogisticRegression\n",
    "from sklearn.model_selection import train_test_split, GridSearchCV\n",
    "from sklearn.tree import DecisionTreeClassifier\n",
    "from sklearn.tree import DecisionTreeClassifier # Decision tree algorithm\n",
    "from sklearn.neighbors import KNeighborsClassifier # KNN algorithm\n",
    "from sklearn.linear_model import LogisticRegression # Logistic regression algorithm\n",
    "from sklearn.svm import SVC # SVM algorithm\n",
    "from xgboost import XGBClassifier # XGBoost algorithm\n",
    "from sklearn.metrics import r2_score, classification_report, confusion_matrix, accuracy_score, roc_auc_score, roc_curve, precision_recall_curve, average_precision_score\n",
    "from sklearn.ensemble import RandomForestClassifier, VotingClassifier\n",
    "from sklearn.preprocessing import MinMaxScaler\n",
    "\n",
    "# making data frame \n",
    "df = pd.read_csv(\"CC_FRAUD.csv\") \n",
    "  \n",
    "df.head(10)"
   ]
  },
  {
   "cell_type": "markdown",
   "id": "closing-colombia",
   "metadata": {},
   "source": [
    "# EDA & Feature Engineering"
   ]
  },
  {
   "cell_type": "code",
   "execution_count": 191,
   "id": "royal-mainstream",
   "metadata": {},
   "outputs": [
    {
     "data": {
      "text/plain": [
       "(94682, 20)"
      ]
     },
     "execution_count": 191,
     "metadata": {},
     "output_type": "execute_result"
    }
   ],
   "source": [
    "df.shape"
   ]
  },
  {
   "cell_type": "code",
   "execution_count": 192,
   "id": "annual-mongolia",
   "metadata": {},
   "outputs": [
    {
     "name": "stdout",
     "output_type": "stream",
     "text": [
      "<class 'pandas.core.frame.DataFrame'>\n",
      "RangeIndex: 94682 entries, 0 to 94681\n",
      "Data columns (total 20 columns):\n",
      " #   Column         Non-Null Count  Dtype  \n",
      "---  ------         --------------  -----  \n",
      " 0   DOMAIN         94682 non-null  object \n",
      " 1   STATE          94682 non-null  object \n",
      " 2   ZIPCODE        94682 non-null  int64  \n",
      " 3   TIME1          94682 non-null  int64  \n",
      " 4   TIME2          94682 non-null  int64  \n",
      " 5   VIS1           94682 non-null  int64  \n",
      " 6   VIS2           94682 non-null  int64  \n",
      " 7   XRN1           94682 non-null  int64  \n",
      " 8   XRN2           94682 non-null  int64  \n",
      " 9   XRN3           94682 non-null  int64  \n",
      " 10  XRN4           94682 non-null  int64  \n",
      " 11  XRN5           94682 non-null  int64  \n",
      " 12  VAR1           94682 non-null  int64  \n",
      " 13  VAR2           94682 non-null  int64  \n",
      " 14  VAR3           94682 non-null  float64\n",
      " 15  VAR4           94682 non-null  int64  \n",
      " 16  VAR5           94682 non-null  int64  \n",
      " 17  TRN_AMT        94682 non-null  float64\n",
      " 18  TOTAL_TRN_AMT  94682 non-null  float64\n",
      " 19  TRN_TYPE       94682 non-null  object \n",
      "dtypes: float64(3), int64(14), object(3)\n",
      "memory usage: 14.4+ MB\n"
     ]
    }
   ],
   "source": [
    "df.info()"
   ]
  },
  {
   "cell_type": "code",
   "execution_count": 193,
   "id": "worthy-guinea",
   "metadata": {},
   "outputs": [
    {
     "name": "stdout",
     "output_type": "stream",
     "text": [
      "Fraudulent transactions: 2.21%"
     ]
    },
    {
     "data": {
      "image/png": "[encoded data removed]",
      "text/plain": [
       "<Figure size 432x288 with 1 Axes>"
      ]
     },
     "metadata": {
      "needs_background": "light"
     },
     "output_type": "display_data"
    }
   ],
   "source": [
    "#Produce a graph showing the unbalanced data for the target variable\n",
    "plt.bar(['Valid','Fraud'],list(df['TRN_TYPE'].value_counts()))\n",
    "print(\"Fraudulent transactions: \", end='')\n",
    "frauds= df['TRN_TYPE'].value_counts()[1]/sum(df['TRN_TYPE'].value_counts())\n",
    "print(round(frauds*100,2), end='%')\n",
    "plt.show()"
   ]
  },
  {
   "cell_type": "code",
   "execution_count": 194,
   "id": "certain-embassy",
   "metadata": {},
   "outputs": [],
   "source": [
    "# dropping columns which are not necessary for prediction\n",
    "to_drop = ['DOMAIN','STATE','ZIPCODE', 'TRN_AMT']\n",
    "df.drop(to_drop, inplace = True, axis = 1)"
   ]
  },
  {
   "cell_type": "code",
   "execution_count": 195,
   "id": "brilliant-portland",
   "metadata": {},
   "outputs": [],
   "source": [
    "#Convert target variable labels to numerical data\n",
    "df[\"TRN_TYPE\"].replace({\"LEGIT\": 0, \"FRAUD\": 1}, inplace=True)"
   ]
  },
  {
   "cell_type": "code",
   "execution_count": 196,
   "id": "precious-conspiracy",
   "metadata": {},
   "outputs": [
    {
     "name": "stdout",
     "output_type": "stream",
     "text": [
      "\u001b[1mTotal number of Trnsactions are 94682\u001b[0m\n",
      "\u001b[1mNumber of Normal Transactions are 92588\u001b[0m\n",
      "\u001b[1mNumber of fraudulent Transactions are 2094\u001b[0m\n",
      "\u001b[1mPercentage of fraud Transactions is 2.26\u001b[0m\n"
     ]
    }
   ],
   "source": [
    "#Obtaining numerical information on the target variable in the dataset\n",
    "Total_transactions = len(df)\n",
    "normal = len(df[df.TRN_TYPE == 0])\n",
    "fraudulent = len(df[df.TRN_TYPE == 1])\n",
    "fraud_percentage = round(fraudulent/normal*100, 2)\n",
    "print(cl('Total number of Trnsactions are {}'.format(Total_transactions), attrs = ['bold']))\n",
    "print(cl('Number of Normal Transactions are {}'.format(normal), attrs = ['bold']))\n",
    "print(cl('Number of fraudulent Transactions are {}'.format(fraudulent), attrs = ['bold']))\n",
    "print(cl('Percentage of fraud Transactions is {}'.format(fraud_percentage), attrs = ['bold']))"
   ]
  },
  {
   "cell_type": "code",
   "execution_count": 197,
   "id": "pleased-efficiency",
   "metadata": {},
   "outputs": [],
   "source": [
    "#Performing feature scaling\n",
    "sc = StandardScaler()\n",
    "\n",
    "TIME1 = df['TIME1'].values\n",
    "df['TIME1'] = sc.fit_transform(TIME1.reshape(-1, 1))\n",
    "\n",
    "TIME2 = df['TIME2'].values\n",
    "df['TIME2'] = sc.fit_transform(TIME2.reshape(-1, 1))\n",
    "\n",
    "XRN5 = df['XRN5'].values\n",
    "df['XRN5'] = sc.fit_transform(XRN5.reshape(-1, 1))\n",
    "\n",
    "VAR1 = df['VAR1'].values\n",
    "df['VAR1'] = sc.fit_transform(VAR1.reshape(-1, 1))\n",
    "\n",
    "VAR3 = df['VAR3'].values\n",
    "df['VAR3'] = sc.fit_transform(VAR3.reshape(-1, 1))\n",
    "\n",
    "VAR4 = df['VAR4'].values\n",
    "df['VAR4'] = sc.fit_transform(VAR4.reshape(-1, 1))\n",
    "\n",
    "VAR5 = df['VAR5'].values\n",
    "df['VAR5'] = sc.fit_transform(VAR5.reshape(-1, 1))\n",
    "\n",
    "TOTAL_TRN_AMT = df['TOTAL_TRN_AMT'].values\n",
    "df['TOTAL_TRN_AMT'] = sc.fit_transform(TOTAL_TRN_AMT.reshape(-1, 1))"
   ]
  },
  {
   "cell_type": "markdown",
   "id": "racial-white",
   "metadata": {},
   "source": [
    "# Create the Train and Test Data"
   ]
  },
  {
   "cell_type": "code",
   "execution_count": 198,
   "id": "popular-headset",
   "metadata": {},
   "outputs": [],
   "source": [
    "#Creating train and test sets (99% for training and the top 1% for testing)\n",
    "train = df.nsmallest(93735, ['TOTAL_TRN_AMT'])\n",
    "test = df.nlargest(947, ['TOTAL_TRN_AMT'])"
   ]
  },
  {
   "cell_type": "code",
   "execution_count": 199,
   "id": "roman-forward",
   "metadata": {},
   "outputs": [],
   "source": [
    "# Define resampling method and split into train and test\n",
    "X_train = train.iloc[:,:15]\n",
    "X_test = test.iloc[:,:15]\n",
    "y_train = train['TRN_TYPE']\n",
    "y_test = test['TRN_TYPE']"
   ]
  },
  {
   "cell_type": "code",
   "execution_count": 200,
   "id": "serial-madness",
   "metadata": {},
   "outputs": [
    {
     "data": {
      "text/plain": [
       "0    927\n",
       "1     20\n",
       "Name: TRN_TYPE, dtype: int64"
      ]
     },
     "execution_count": 200,
     "metadata": {},
     "output_type": "execute_result"
    }
   ],
   "source": [
    "#Get information on the target variable in the test set\n",
    "y_test.value_counts()"
   ]
  },
  {
   "cell_type": "markdown",
   "id": "forced-constitutional",
   "metadata": {},
   "source": [
    "# Setting up the Model"
   ]
  },
  {
   "cell_type": "code",
   "execution_count": 201,
   "id": "formed-found",
   "metadata": {},
   "outputs": [
    {
     "data": {
      "text/plain": [
       "RandomForestClassifier(n_estimators=20, random_state=5)"
      ]
     },
     "execution_count": 201,
     "metadata": {},
     "output_type": "execute_result"
    }
   ],
   "source": [
    "# Define the model as the random forest\n",
    "model = RandomForestClassifier(random_state=5, n_estimators=20)\n",
    "#Decision Tree\n",
    "#model = DecisionTreeClassifier(max_depth = 4, criterion = 'entropy')\n",
    "#KNN\n",
    "#n = 5\n",
    "#model = KNeighborsClassifier(n_neighbors = n)\n",
    "#Logistic Regression\n",
    "#model = LogisticRegression()\n",
    "#SVM \n",
    "#svm = SVC()\n",
    "#Random Forest Tree 2\n",
    "#model = RandomForestClassifier(max_depth = 4)\n",
    "#XGBoost\n",
    "#model = XGBClassifier(max_depth = 4)\n",
    "\n",
    "# Fit the model to our training set\n",
    "model.fit(X_train, y_train)"
   ]
  },
  {
   "cell_type": "code",
   "execution_count": 202,
   "id": "american-sport",
   "metadata": {},
   "outputs": [],
   "source": [
    "# Obtain predictions from the test data \n",
    "predicted = model.predict(X_test)"
   ]
  },
  {
   "cell_type": "markdown",
   "id": "eligible-thing",
   "metadata": {},
   "source": [
    "# Performance Metrics"
   ]
  },
  {
   "cell_type": "code",
   "execution_count": 203,
   "id": "white-trinity",
   "metadata": {},
   "outputs": [
    {
     "name": "stdout",
     "output_type": "stream",
     "text": [
      "Accuracy Score:\n",
      "0.978\n"
     ]
    }
   ],
   "source": [
    "#Find out accuracy score\n",
    "print(f'Accuracy Score:\\n{accuracy_score(y_test, predicted):0.3f}')"
   ]
  },
  {
   "cell_type": "code",
   "execution_count": 204,
   "id": "public-manual",
   "metadata": {},
   "outputs": [
    {
     "name": "stdout",
     "output_type": "stream",
     "text": [
      "ROC Score:\n",
      "0.42575512405609495\n",
      "\n",
      "Classification Report:\n",
      "              precision    recall  f1-score   support\n",
      "\n",
      "           0       0.98      1.00      0.99       927\n",
      "           1       0.33      0.05      0.09        20\n",
      "\n",
      "    accuracy                           0.98       947\n",
      "   macro avg       0.66      0.52      0.54       947\n",
      "weighted avg       0.97      0.98      0.97       947\n",
      "\n",
      "\n",
      "Confusion Matrix:\n",
      "[[925   2]\n",
      " [ 19   1]]\n"
     ]
    }
   ],
   "source": [
    "# Print the ROC curve, classification report and confusion matrix\n",
    "print('ROC Score:')\n",
    "print(roc_auc_score(y_test, probs[:,1]))\n",
    "print('\\nClassification Report:')\n",
    "print(classification_report(y_test, predicted))\n",
    "print('\\nConfusion Matrix:')\n",
    "print(confusion_matrix(y_test, predicted))"
   ]
  },
  {
   "cell_type": "markdown",
   "id": "parliamentary-index",
   "metadata": {},
   "source": [
    "ROC Score:\n",
    "\n",
    "The areas under ROC curves are used to compare the usefulness of tests.\n",
    "0.5 suggests no discrimination\n",
    "0.7 to 0.8 is considered acceptable \n",
    "0.8 to 0.9 is considered excellent\n",
    "\n",
    "This curve plots two parameters: True Positive Rate & False Positive Rate.\n",
    "TPR = TP/TP+FN (Recall) and FPR = FP/FP+TN\n",
    "\n",
    "Precision:\n",
    "\n",
    "What proportion of positive identifications was actually correct? \n",
    "TP/TP+FP\n",
    "\n",
    "Recall:\n",
    "\n",
    "What proportion of actual positives was identified correctly? \n",
    "TP/TP+FN\n",
    "\n",
    "f1-score:\n",
    "\n",
    "The F1 score can be interpreted as a harmonic mean of the precision and recall\n",
    "F1 score reaches its best value at 1 and worst score at 0\n",
    "\n",
    "Confusion Matrix:\n",
    "\n",
    ".................................................C1:Predicted No........C2:Predicted Yes           \n",
    "R1.Actual No\n",
    ".\n",
    "R2.Actual Yes"
   ]
  },
  {
   "cell_type": "markdown",
   "id": "designing-bench",
   "metadata": {},
   "source": [
    "# Techniques to Improve Model Prediction"
   ]
  },
  {
   "cell_type": "markdown",
   "id": "other-destruction",
   "metadata": {},
   "source": [
    "# Upsampling (SMOTE)"
   ]
  },
  {
   "cell_type": "code",
   "execution_count": 205,
   "id": "quantitative-trust",
   "metadata": {},
   "outputs": [],
   "source": [
    "#Use SMOTE (Synthetic Minority Oversampling Technique) for upsampling the train data\n",
    "#Upsampling techniques like this will increase the amount of training data by balancing the classes but could in turn \n",
    "#lead to overfitting\n",
    "sm = SMOTE(random_state = 42)\n",
    "X_train_oversampled, y_train_oversampled = sm.fit_resample(X_train, y_train)"
   ]
  },
  {
   "cell_type": "code",
   "execution_count": 206,
   "id": "contrary-discrimination",
   "metadata": {},
   "outputs": [
    {
     "data": {
      "text/plain": [
       "RandomForestClassifier(n_estimators=20, random_state=5)"
      ]
     },
     "execution_count": 206,
     "metadata": {},
     "output_type": "execute_result"
    }
   ],
   "source": [
    "model.fit(X_train_oversampled, y_train_oversampled)"
   ]
  },
  {
   "cell_type": "code",
   "execution_count": 207,
   "id": "electronic-painting",
   "metadata": {},
   "outputs": [],
   "source": [
    "# Obtain predictions from the test data \n",
    "predicted = model.predict(X_test)"
   ]
  },
  {
   "cell_type": "code",
   "execution_count": 208,
   "id": "coral-christianity",
   "metadata": {},
   "outputs": [
    {
     "name": "stdout",
     "output_type": "stream",
     "text": [
      "Accuracy Score:\n",
      "0.979\n"
     ]
    }
   ],
   "source": [
    "print(f'Accuracy Score:\\n{accuracy_score(y_test, predicted):0.3f}')"
   ]
  },
  {
   "cell_type": "code",
   "execution_count": 209,
   "id": "disturbed-relaxation",
   "metadata": {},
   "outputs": [
    {
     "name": "stdout",
     "output_type": "stream",
     "text": [
      "ROC Score:\n",
      "0.42575512405609495\n",
      "\n",
      "Classification Report:\n",
      "              precision    recall  f1-score   support\n",
      "\n",
      "           0       0.98      1.00      0.99       927\n",
      "           1       0.50      0.05      0.09        20\n",
      "\n",
      "    accuracy                           0.98       947\n",
      "   macro avg       0.74      0.52      0.54       947\n",
      "weighted avg       0.97      0.98      0.97       947\n",
      "\n",
      "\n",
      "Confusion Matrix:\n",
      "[[926   1]\n",
      " [ 19   1]]\n"
     ]
    }
   ],
   "source": [
    "# Print the ROC curve, classification report and confusion matrix\n",
    "print('ROC Score:')\n",
    "print(roc_auc_score(y_test, probs[:,1]))\n",
    "print('\\nClassification Report:')\n",
    "print(classification_report(y_test, predicted))\n",
    "print('\\nConfusion Matrix:')\n",
    "print(confusion_matrix(y_test, predicted))"
   ]
  },
  {
   "cell_type": "markdown",
   "id": "better-associate",
   "metadata": {},
   "source": [
    "# Gridsearch Cross Validation"
   ]
  },
  {
   "cell_type": "code",
   "execution_count": null,
   "id": "derived-starter",
   "metadata": {},
   "outputs": [],
   "source": [
    "param_grid = {'n_estimators': [1, 10, 15, 20, 25, 30],\n",
    "              'max_features': ['auto', 'log2'], \n",
    "              'max_depth': [3, 4, 5, 8, 10, 12, 15],\n",
    "              'criterion': ['gini', 'entropy']}\n",
    "\n",
    "# Define the model to use\n",
    "model = RandomForestClassifier(random_state=5)\n",
    "\n",
    "# Combine the parameter sets with the defined model\n",
    "CV_model = GridSearchCV(estimator=model, param_grid=param_grid, cv=5, scoring='recall', n_jobs=-1)\n",
    "\n",
    "# Fit the model to our training data and obtain best parameters\n",
    "CV_model.fit(X_train, y_train)\n",
    "CV_model.best_params_"
   ]
  },
  {
   "cell_type": "code",
   "execution_count": null,
   "id": "respected-punch",
   "metadata": {},
   "outputs": [],
   "source": [
    "#Use the best parameters from gridsearch cross validation\n",
    "model = RandomForestClassifier(random_state=5, criterion='entropy', max_depth=15, max_features='auto', n_estimators=1)\n",
    "model.fit(X_train, y_train)\n",
    "predicted = model.predict(X_test)"
   ]
  },
  {
   "cell_type": "code",
   "execution_count": 154,
   "id": "sapphire-professional",
   "metadata": {},
   "outputs": [
    {
     "name": "stdout",
     "output_type": "stream",
     "text": [
      "Accuracy Score:\n",
      "0.974\n"
     ]
    }
   ],
   "source": [
    "#Find out accuracy score\n",
    "print(f'Accuracy Score:\\n{accuracy_score(y_test, predicted):0.3f}')"
   ]
  },
  {
   "cell_type": "code",
   "execution_count": 155,
   "id": "tutorial-brown",
   "metadata": {},
   "outputs": [
    {
     "name": "stdout",
     "output_type": "stream",
     "text": [
      "ROC Score:\n",
      "0.42575512405609495\n",
      "\n",
      "Classification Report:\n",
      "              precision    recall  f1-score   support\n",
      "\n",
      "           0       0.98      0.99      0.99       927\n",
      "           1       0.00      0.00      0.00        20\n",
      "\n",
      "    accuracy                           0.97       947\n",
      "   macro avg       0.49      0.50      0.49       947\n",
      "weighted avg       0.96      0.97      0.97       947\n",
      "\n",
      "\n",
      "Confusion Matrix:\n",
      "[[922   5]\n",
      " [ 20   0]]\n"
     ]
    }
   ],
   "source": [
    "# Print the ROC curve, classification report and confusion matrix\n",
    "print('ROC Score:')\n",
    "print(roc_auc_score(y_test, probs[:,1]))\n",
    "print('\\nClassification Report:')\n",
    "print(classification_report(y_test, predicted))\n",
    "print('\\nConfusion Matrix:')\n",
    "print(confusion_matrix(y_test, predicted))"
   ]
  },
  {
   "cell_type": "markdown",
   "id": "packed-wales",
   "metadata": {},
   "source": [
    "# Near Miss "
   ]
  },
  {
   "cell_type": "code",
   "execution_count": 210,
   "id": "current-acting",
   "metadata": {},
   "outputs": [],
   "source": [
    "#An under-sampling technique. Instead of resampling the Minority class, using a distance, this will make the majority \n",
    "#class equal to the minority class. This leads to a loss of valuable information\n",
    "\n",
    "from imblearn.under_sampling import NearMiss\n",
    "\n",
    "nm = NearMiss()"
   ]
  },
  {
   "cell_type": "code",
   "execution_count": 211,
   "id": "educational-coordination",
   "metadata": {},
   "outputs": [],
   "source": [
    "X_train_nm, y_train_nm = nm.fit_resample(X_train, y_train)"
   ]
  },
  {
   "cell_type": "code",
   "execution_count": 212,
   "id": "hindu-renaissance",
   "metadata": {},
   "outputs": [
    {
     "data": {
      "text/plain": [
       "RandomForestClassifier(n_estimators=20, random_state=5)"
      ]
     },
     "execution_count": 212,
     "metadata": {},
     "output_type": "execute_result"
    }
   ],
   "source": [
    "model.fit(X_train_nm, y_train_nm)"
   ]
  },
  {
   "cell_type": "code",
   "execution_count": 213,
   "id": "therapeutic-supervisor",
   "metadata": {},
   "outputs": [],
   "source": [
    "# Obtain predictions from the test data \n",
    "predicted = model.predict(X_test)"
   ]
  },
  {
   "cell_type": "code",
   "execution_count": 214,
   "id": "worse-piano",
   "metadata": {},
   "outputs": [
    {
     "name": "stdout",
     "output_type": "stream",
     "text": [
      "Accuracy Score:\n",
      "0.036\n"
     ]
    }
   ],
   "source": [
    "print(f'Accuracy Score:\\n{accuracy_score(y_test, predicted):0.3f}')"
   ]
  },
  {
   "cell_type": "code",
   "execution_count": 215,
   "id": "sealed-breathing",
   "metadata": {},
   "outputs": [
    {
     "name": "stdout",
     "output_type": "stream",
     "text": [
      "ROC Score:\n",
      "0.42575512405609495\n",
      "\n",
      "Classification Report:\n",
      "              precision    recall  f1-score   support\n",
      "\n",
      "           0       1.00      0.02      0.03       927\n",
      "           1       0.02      1.00      0.04        20\n",
      "\n",
      "    accuracy                           0.04       947\n",
      "   macro avg       0.51      0.51      0.04       947\n",
      "weighted avg       0.98      0.04      0.03       947\n",
      "\n",
      "\n",
      "Confusion Matrix:\n",
      "[[ 14 913]\n",
      " [  0  20]]\n"
     ]
    }
   ],
   "source": [
    "# Print the ROC curve, classification report and confusion matrix\n",
    "print('ROC Score:')\n",
    "print(roc_auc_score(y_test, probs[:,1]))\n",
    "print('\\nClassification Report:')\n",
    "print(classification_report(y_test, predicted))\n",
    "print('\\nConfusion Matrix:')\n",
    "print(confusion_matrix(y_test, predicted))"
   ]
  }
 ],
 "metadata": {
  "kernelspec": {
   "display_name": "Python 3",
   "language": "python",
   "name": "python3"
  },
  "language_info": {
   "codemirror_mode": {
    "name": "ipython",
    "version": 3
   },
   "file_extension": ".py",
   "mimetype": "text/x-python",
   "name": "python",
   "nbconvert_exporter": "python",
   "pygments_lexer": "ipython3",
   "version": "3.6.13"
  }
 },
 "nbformat": 4,
 "nbformat_minor": 5
}
